{
 "cells": [
  {
   "attachments": {},
   "cell_type": "markdown",
   "metadata": {},
   "source": [
    "Execute dl_winter_data.sh to download SEN12MSCR dataset and extract it to correct folder structure"
   ]
  },
  {
   "cell_type": "code",
   "execution_count": null,
   "metadata": {},
   "outputs": [],
   "source": [
    "import torch\n",
    "from data.dataLoader import SEN12MSCR\n",
    "dir_SEN12MSCR = '/home/donatas/projects/gmm-komandinis/data/SEN12MSCR'\n",
    "sen12mscr     = SEN12MSCR(dir_SEN12MSCR, split='all', region='all')\n",
    "dataloader      = torch.utils.data.DataLoader(sen12mscr)\n",
    "\n",
    "for pdx, samples in enumerate(dataloader): print(samples['input'].keys())"
   ]
  },
  {
   "cell_type": "code",
   "execution_count": null,
   "metadata": {
    "vscode": {
     "languageId": "shellscript"
    }
   },
   "outputs": [],
   "source": [
    "!python train.py --dataroot /home/donatas/projects/gmm-komandinis/data/SEN12MSCR \\\n",
    "    --dataset_mode sen12mscrts --name exemplary_training_run --sample_type cloudy_cloudfree \\\n",
    "    --model temporal_branched --netG resnet3d_9blocks_withoutBottleneck --gpu_ids 0 \\\n",
    "    --max_dataset_size 100000 --input_type train --cloud_masks s2cloudless_mask \\\n",
    "    --include_S1 --input_nc 15 --output_nc 13 --G_loss L1 --lambda_GAN 0.0 \\\n",
    "    --display_freq 1000 --n_input_samples 3 --region all"
   ]
  }
 ],
 "metadata": {
  "kernelspec": {
   "display_name": "base",
   "language": "python",
   "name": "python3"
  },
  "language_info": {
   "codemirror_mode": {
    "name": "ipython",
    "version": 3
   },
   "file_extension": ".py",
   "mimetype": "text/x-python",
   "name": "python",
   "nbconvert_exporter": "python",
   "pygments_lexer": "ipython3",
   "version": "3.8.16"
  },
  "orig_nbformat": 4
 },
 "nbformat": 4,
 "nbformat_minor": 2
}
