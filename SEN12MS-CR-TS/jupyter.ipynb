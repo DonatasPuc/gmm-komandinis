{
 "cells": [
  {
   "attachments": {},
   "cell_type": "markdown",
   "metadata": {},
   "source": [
    "Execute dl_winter_data.sh to download SEN12MSCR dataset and extract it to correct folder structure"
   ]
  },
  {
   "cell_type": "code",
   "execution_count": null,
   "metadata": {},
   "outputs": [],
   "source": [
    "import torch\n",
    "from data.dataLoader import SEN12MSCR\n",
    "dir_SEN12MSCR = '/home/donatas/projects/gmm-komandinis/data/SEN12MSCR'\n",
    "sen12mscr     = SEN12MSCR(dir_SEN12MSCR, split='all', region='all')\n",
    "dataloader      = torch.utils.data.DataLoader(sen12mscr)\n",
    "\n",
    "for pdx, samples in enumerate(dataloader): print(samples['input'].keys())"
   ]
  },
  {
   "cell_type": "code",
   "execution_count": 8,
   "metadata": {
    "vscode": {
     "languageId": "shellscript"
    }
   },
   "outputs": [
    {
     "name": "stdout",
     "output_type": "stream",
     "text": [
      "----------------- Options ---------------\n",
      "                   G_loss: L1                            \n",
      "      alter_initial_model: False                         \n",
      "               batch_size: 1                             \n",
      "   benchmark_resnet_model: False                         \n",
      "                    beta1: 0.5                           \n",
      "          checkpoints_dir: ./checkpoints                 \n",
      "              cloud_masks: s2cloudless_mask              \n",
      "           continue_train: False                         \n",
      "                crop_size: 256                           \n",
      "                 dataroot: /home/donatas/projects/gmm-komandinis/data/SEN12MSCR\t[default: None]\n",
      "             dataset_mode: sen12mscr                     \t[default: aligned]\n",
      "                direction: AtoB                          \n",
      "              display_env: main                          \n",
      "             display_freq: 1000                          \t[default: 400]\n",
      "               display_id: -1                            \n",
      "            display_ncols: 4                             \n",
      "             display_port: 8097                          \n",
      "           display_server: http://localhost              \n",
      "          display_winsize: 256                           \n",
      "                    epoch: latest                        \n",
      "              epoch_count: 1                             \n",
      "         export_data_path:                               \n",
      "                 gan_mode: lsgan                         \n",
      "                  gpu_ids: 0                             \n",
      "         import_data_path:                               \n",
      "               in_only_S1: False                         \n",
      "               include_S1: True                          \t[default: False]\n",
      "                init_gain: 0.02                          \n",
      "                init_type: normal                        \n",
      "       initial_model_path: none                          \n",
      "                 input_nc: 15                            \t[default: 3]\n",
      "               input_type: train                         \t[default: all]\n",
      "                  isTrain: True                          \t[default: None]\n",
      "               lambda_GAN: 0.0                           \t[default: 1.0]\n",
      "                lambda_L1: 100.0                         \n",
      "            lambda_percep: 1.0                           \n",
      "            layers_percep: original                      \n",
      "                load_iter: 0                             \t[default: 0]\n",
      "                load_size: 286                           \n",
      "                       lr: 0.0002                        \n",
      "           lr_decay_iters: 50                            \n",
      "                lr_policy: linear                        \n",
      "                  max_cov: 1.0                           \n",
      "         max_dataset_size: 100000                        \t[default: 10]\n",
      "                  min_cov: 0.0                           \n",
      "                    model: temporal_branched             \t[default: cycle_gan]\n",
      "          n_input_samples: 3                             \n",
      "               n_layers_D: 3                             \n",
      "                     name: exemplary_training_run        \t[default: experiment_name]\n",
      "                      ndf: 64                            \n",
      "                     netD: basic                         \n",
      "                     netG: resnet3d_9blocks_withoutBottleneck\t[default: unet_256]\n",
      "       new_dataset_option: 2.0                           \n",
      "                      ngf: 64                            \n",
      "                    niter: 100                           \n",
      "              niter_decay: 100                           \n",
      "                   no_64C: False                         \n",
      "               no_dropout: False                         \n",
      "                  no_flip: False                         \n",
      "                  no_html: False                         \n",
      "                     norm: batch                         \n",
      "              num_threads: 10                            \n",
      "                output_nc: 13                            \t[default: 3]\n",
      "                    phase: train                         \n",
      "                pool_size: 50                            \n",
      "               preprocess: resize_and_crop               \n",
      "               print_freq: 100                           \n",
      "                   region: all                           \n",
      "                 resnet_B: 16                            \n",
      "                 resnet_F: 256                           \n",
      "              sample_type: cloudy_cloudfree              \t[default: generic]\n",
      "             save_by_iter: False                         \n",
      "          save_epoch_freq: 10                            \n",
      "         save_latest_freq: 5000                          \n",
      "                 scramble: False                         \n",
      "           serial_batches: False                         \n",
      "                   suffix:                               \n",
      "            unfreeze_iter: 100000                        \n",
      "         update_html_freq: 1000                          \n",
      "      use_perceptual_loss: False                         \n",
      "                  verbose: False                         \n",
      "               vgg16_path: none                          \n",
      "----------------- End -------------------\n",
      "Traceback (most recent call last):\n",
      "  File \"train.py\", line 38, in <module>\n",
      "    dataset = create_dataset(opt)  # create a dataset given opt.dataset_mode and other options\n",
      "  File \"/home/donatas/projects/gmm-komandinis/SEN12MS-CR-TS/data/__init__.py\", line 57, in create_dataset\n",
      "    data_loader = CustomDatasetDataLoader(opt)\n",
      "  File \"/home/donatas/projects/gmm-komandinis/SEN12MS-CR-TS/data/__init__.py\", line 73, in __init__\n",
      "    self.dataset = dataset_class(opt)\n",
      "  File \"/home/donatas/projects/gmm-komandinis/SEN12MS-CR-TS/data/sen12mscr_dataset.py\", line 49, in __init__\n",
      "    self.data_loader \t= SEN12MSCR(opt.dataroot, split=opt.input_type, region=opt.region, cloud_masks=opt.cloud_masks, sample_type=opt.sample_type, rescale_method=self.rescale_method)\n",
      "  File \"/home/donatas/projects/gmm-komandinis/SEN12MS-CR-TS/data/dataLoader.py\", line 419, in __init__\n",
      "    assert sample_type in ['pretrain'], \"Input data must be pretrain!\"\n",
      "AssertionError: Input data must be pretrain!\n"
     ]
    }
   ],
   "source": [
    "!python train.py --dataroot /home/donatas/projects/gmm-komandinis/data/SEN12MSCR \\\n",
    "    --dataset_mode sen12mscr --name exemplary_training_run --sample_type cloudy_cloudfree \\\n",
    "    --model temporal_branched --netG resnet3d_9blocks_withoutBottleneck --gpu_ids 0 \\\n",
    "    --max_dataset_size 100000 --input_type train --cloud_masks s2cloudless_mask \\\n",
    "    --include_S1 --input_nc 15 --output_nc 13 --G_loss L1 --lambda_GAN 0.0 \\\n",
    "    --display_freq 1000 --region all"
   ]
  }
 ],
 "metadata": {
  "kernelspec": {
   "display_name": "base",
   "language": "python",
   "name": "python3"
  },
  "language_info": {
   "codemirror_mode": {
    "name": "ipython",
    "version": 3
   },
   "file_extension": ".py",
   "mimetype": "text/x-python",
   "name": "python",
   "nbconvert_exporter": "python",
   "pygments_lexer": "ipython3",
   "version": "3.8.16"
  },
  "orig_nbformat": 4
 },
 "nbformat": 4,
 "nbformat_minor": 2
}
